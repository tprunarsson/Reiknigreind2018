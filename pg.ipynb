{
 "cells": [
  {
   "cell_type": "code",
   "execution_count": 1,
   "metadata": {
    "collapsed": true
   },
   "outputs": [],
   "source": [
    "import numpy as np"
   ]
  },
  {
   "cell_type": "markdown",
   "metadata": {},
   "source": [
    "## Class discussion 6 notes and solutions.\n",
    "\n",
    "The topics covered here relate to the first part of the computational project, creating directly a policy using a function approximator. In the examples below the approximator is based on a linear function using a vector of features $\\vec{x}$ and the corresponding weights $\\theta$ which must be learned. The key difference between the different methods are in the way the weights are updated:\n",
    "\n",
    "$$\\theta \\leftarrow \\theta + \\alpha \\delta \\nabla \\ln \\pi $$\n",
    "\n",
    "here $\\alpha$ is the usual step-size, and $\\nabla \\ln \\pi$ is the gradient of the log policy function with respect to $\\theta$. The only real difference between the methods is the way $\\delta$ is chosen:\n",
    "\n",
    "- REINFORCE: uses $\\delta = G$ and $G$ is the return for the entire epsisode from that state (with discounting $\\gamma$).\n",
    "- REINFORCE using baseline: uses $\\delta = G - \\bar{G}$ where $\\bar{G}$ is the state value function or baseline (mean returns from the state).\n",
    "- Actor Critic: $\\delta = r + V(s') - V(s)$, the usual TD-error, uses estimated values of subsequent states (bootstrapping).\n",
    "\n",
    "I will start with using the two armed bandit problem below to illustrate the first two approaches and then use the short-corridor model to explain Actor-Critic. In both cases there are only two actions and only one state. In the bandit problem there is actually only one state, in the short-corridor model we assume we are using function approximation and so it appears that we only have one state for our policy approximation. I try to follow the pseudocodes in the book more directly to make the methods and differences between them clearer.\n",
    "\n",
    "Other questions/answers are on the discussion page in Moodle.\n",
    "\n",
    "\n",
    "### The Two Armed Bandit Problem solved using policy gradient methods\n",
    "\n",
    "The bandit problem is discussed quite intensively in chapter 2, we will address these problems in more details in two weeks when covering exploration versus expoitation (XX). The problem here is that of trying to choose a \"bandit\" (spila-kassi) that returns on average the highest winnings. The winnings are modelled as a normal distribution, so the bandit with the highest mean is the one we are seeking, and when found we would like to play it forever.\n",
    "\n",
    "Imagine a two armed bandit each returning on average values:"
   ]
  },
  {
   "cell_type": "code",
   "execution_count": 2,
   "metadata": {
    "collapsed": false
   },
   "outputs": [],
   "source": [
    "Rtrue = np.array([10,12])"
   ]
  },
  {
   "cell_type": "markdown",
   "metadata": {},
   "source": [
    "We would like to learn to choose the arm with the highest reward with highest probability\n",
    "### Policy iteration using function appoximation\n",
    "Lets assume that the policy can be represented by the following function\n",
    "$$\n",
    "\\pi (a) = \\frac{\\exp \\big( \\sum_{i=1}^2 \\theta_i x_i(s,a) \\big)}{\\sum_{a = 0}^1\\exp \\big( \\sum_{i=1}^2 \\theta_ix_i(s,a) \\big)}\n",
    "$$\n",
    "and let the features be\n",
    "$$\n",
    "x_1(s,a) = x_1(a) = \\begin{cases} 1 & \\mbox{when } a = 0 \\\\\n",
    "                       0 & \\mbox{otherwise} \n",
    "         \\end{cases}\n",
    "$$\n",
    "and\n",
    "$$\n",
    "x_2(s,a) = x_2(a) = \\begin{cases} 1 & \\mbox{when } a = 1 \\\\\n",
    "                       0 & \\mbox{otherwise}\n",
    "         \\end{cases}\n",
    "$$\n",
    "Then \n",
    "$$\n",
    "\\pi (0) = \\frac{\\exp \\big( \\theta_1 \\big)}{\\exp(\\theta_1)+\\exp(\\theta_2)}\n",
    "$$\n",
    "and\n",
    "$$\n",
    "\\pi (1) = 1-\\pi(0) = \\frac{\\exp \\big( \\theta_2 \\big)}{\\exp(\\theta_1)+\\exp(\\theta_2)}\n",
    "$$\n",
    "Note that there is only one state $s$ and so we can drop it, i.e. $\\pi(s,a)\\equiv \\pi(a)$. Futhermore, using these linear features makes this representation equivalent to a lookup table where $\\theta_i$ will denote some *utility* value of action $i$ (not the expected returns!). Lets see how we might use the REINFORCE algorithm we start by computing gradients for the logarithm of the policy function:\n"
   ]
  },
  {
   "cell_type": "code",
   "execution_count": 3,
   "metadata": {
    "collapsed": true
   },
   "outputs": [],
   "source": [
    "import sympy as sp\n",
    "th1, th2, x1, x2 = sp.symbols('Theta1 Theta2 X1 X1')\n",
    "sp.init_printing()"
   ]
  },
  {
   "cell_type": "code",
   "execution_count": 4,
   "metadata": {
    "collapsed": false
   },
   "outputs": [
    {
     "data": {
      "image/png": "[encoded data removed]",
      "text/latex": [
       "$$\\frac{e^{\\Theta_{2}}}{e^{\\Theta_{1}} + e^{\\Theta_{2}}}$$"
      ],
      "text/plain": [
       "    Θ₂   \n",
       "   ℯ     \n",
       "─────────\n",
       " Θ₁    Θ₂\n",
       "ℯ   + ℯ  "
      ]
     },
     "execution_count": 4,
     "metadata": {},
     "output_type": "execute_result"
    }
   ],
   "source": [
    "pi1 = sp.exp(th1) / ( sp.exp(th1) + sp.exp(th2) )\n",
    "dpi1th1 = sp.simplify(sp.diff(sp.ln(pi1),th1))\n",
    "dpi1th1"
   ]
  },
  {
   "cell_type": "code",
   "execution_count": 5,
   "metadata": {
    "collapsed": false
   },
   "outputs": [
    {
     "data": {
      "image/png": "[encoded data removed]",
      "text/latex": [
       "$$- \\frac{e^{\\Theta_{2}}}{e^{\\Theta_{1}} + e^{\\Theta_{2}}}$$"
      ],
      "text/plain": [
       "    Θ₂   \n",
       "  -ℯ     \n",
       "─────────\n",
       " Θ₁    Θ₂\n",
       "ℯ   + ℯ  "
      ]
     },
     "execution_count": 5,
     "metadata": {},
     "output_type": "execute_result"
    }
   ],
   "source": [
    "dpi1th2 = sp.simplify(sp.diff(sp.ln(pi1),th2))\n",
    "dpi1th2"
   ]
  },
  {
   "cell_type": "code",
   "execution_count": 6,
   "metadata": {
    "collapsed": false
   },
   "outputs": [
    {
     "data": {
      "image/png": "[encoded data removed]",
      "text/latex": [
       "$$- \\frac{e^{\\Theta_{1}}}{e^{\\Theta_{1}} + e^{\\Theta_{2}}}$$"
      ],
      "text/plain": [
       "    Θ₁   \n",
       "  -ℯ     \n",
       "─────────\n",
       " Θ₁    Θ₂\n",
       "ℯ   + ℯ  "
      ]
     },
     "execution_count": 6,
     "metadata": {},
     "output_type": "execute_result"
    }
   ],
   "source": [
    "pi2 = sp.exp(th2) / ( sp.exp(th1) + sp.exp(th2) )\n",
    "dpi2th1 = sp.simplify(sp.diff(sp.ln(pi2),th1))\n",
    "dpi2th1"
   ]
  },
  {
   "cell_type": "code",
   "execution_count": 7,
   "metadata": {
    "collapsed": false
   },
   "outputs": [
    {
     "data": {
      "image/png": "[encoded data removed]",
      "text/latex": [
       "$$\\frac{e^{\\Theta_{1}}}{e^{\\Theta_{1}} + e^{\\Theta_{2}}}$$"
      ],
      "text/plain": [
       "    Θ₁   \n",
       "   ℯ     \n",
       "─────────\n",
       " Θ₁    Θ₂\n",
       "ℯ   + ℯ  "
      ]
     },
     "execution_count": 7,
     "metadata": {},
     "output_type": "execute_result"
    }
   ],
   "source": [
    "dpi2th2 = sp.simplify(sp.diff(sp.ln(pi2),th2))\n",
    "dpi2th2"
   ]
  },
  {
   "cell_type": "markdown",
   "metadata": {},
   "source": [
    "In other words the derivatives are:\n",
    "$$\n",
    "\\frac{\\partial \\ln \\pi(0|\\theta)}{\\partial \\theta_1} = 1 - \\pi(0)\n",
    "$$\n",
    "$$\n",
    "\\frac{\\partial \\ln \\pi(0|\\theta)}{\\partial \\theta_2} = -\\pi(1)\n",
    "$$\n",
    "and\n",
    "$$\n",
    "\\frac{\\partial \\ln \\pi(1|\\theta)}{\\partial \\theta_1}  = -\\pi(0)\n",
    "$$\n",
    "$$\n",
    "\\frac{\\partial \\ln \\pi(1|\\theta)}{\\partial \\theta_2} = 1-\\pi(1)\n",
    "$$"
   ]
  },
  {
   "cell_type": "markdown",
   "metadata": {},
   "source": [
    "In terms of our feature vector $x(s,a)\\equiv x(a)$ we can write the above equations in a general matrix form:\n",
    "$$\n",
    "\\nabla \\ln \\pi (a|\\theta) = \\vec{x}(a) - [\\pi(0),\\pi(1)] [\\vec{x}(0),\\vec{x}(1)]\n",
    "$$\n",
    "where $[\\vec{x}(0),\\vec{x}(1)]$ form a 2x2 matrix (identity matrix in this case) and $[\\pi(0),\\pi(1)]$ is a row vector (1x2). The  $\\vec{x}(a)$ is a (2x1) column vector, when $a=0$ it is $[1,0]^T$ and when $a=1$ it is $[0,1]^T$. See also equation (13.9) in the book. Now we have everything to implement:\n",
    "### REINFORCE"
   ]
  },
  {
   "cell_type": "code",
   "execution_count": 8,
   "metadata": {
    "collapsed": false
   },
   "outputs": [
    {
     "data": {
      "image/png": "[encoded data removed]",
      "text/plain": [
       "<Figure size 432x288 with 1 Axes>"
      ]
     },
     "metadata": {},
     "output_type": "display_data"
    }
   ],
   "source": [
    "theta = np.ones(2) # equal value\n",
    "alpha = .0005 # step size\n",
    "gamma = 1 # so we ignore here\n",
    "x = np.eye(2)\n",
    "pi = lambda a, x, theta : np.exp(np.matmul(theta,x[:,a].T))/np.sum(np.exp(np.matmul(theta,x.T)))\n",
    "life_of_pi = np.zeros( 5000 )\n",
    "life_of_theta = np.zeros( (len(life_of_pi),2) )\n",
    "for episode in range( len(life_of_pi) ):\n",
    "    if np.random.uniform() < pi(0,x,theta):\n",
    "        a = 0\n",
    "    else:\n",
    "        a = 1\n",
    "    G = np.random.normal(loc = Rtrue[a]) # return of the bandit\n",
    "    grad_ln_pi = x[:,a] - np.matmul(np.array( [pi(0,x,theta), pi(1,x,theta)] ), x)\n",
    "    theta = theta + alpha * G * grad_ln_pi\n",
    "    life_of_pi[episode] = pi(0,x,theta)\n",
    "    life_of_theta[episode,:] = theta\n",
    "\n",
    "%matplotlib inline\n",
    "import matplotlib.pyplot as plt\n",
    "plt.plot(life_of_pi)\n",
    "plt.show()"
   ]
  },
  {
   "cell_type": "code",
   "execution_count": 9,
   "metadata": {
    "collapsed": false
   },
   "outputs": [
    {
     "data": {
      "image/png": "[encoded data removed]",
      "text/plain": [
       "<Figure size 432x288 with 1 Axes>"
      ]
     },
     "metadata": {},
     "output_type": "display_data"
    }
   ],
   "source": [
    "plt.plot(life_of_theta)\n",
    "plt.show()"
   ]
  },
  {
   "cell_type": "markdown",
   "metadata": {},
   "source": [
    "### REINFORCE with baseline:"
   ]
  },
  {
   "cell_type": "code",
   "execution_count": 10,
   "metadata": {
    "collapsed": false
   },
   "outputs": [
    {
     "data": {
      "image/png": "[encoded data removed]",
      "text/plain": [
       "<Figure size 432x288 with 1 Axes>"
      ]
     },
     "metadata": {},
     "output_type": "display_data"
    }
   ],
   "source": [
    "theta = np.ones(2) # equal value\n",
    "alpha = .005 # step size\n",
    "gamma = 1 # so we will ignore it here!\n",
    "x = np.eye(2)\n",
    "pi = lambda a, x, theta : np.exp(np.matmul(theta,x[:,a].T))/np.sum(np.exp(np.matmul(theta,x.T)))\n",
    "life_of_pi_baseline = np.zeros( 5000 )\n",
    "life_of_theta_baseline = np.zeros( (len(life_of_pi),2) )\n",
    "Gmean = 0.0 # the mean return from state s and using policy pi\n",
    "N = 0.0\n",
    "for episode in range( len(life_of_pi_baseline) ):\n",
    "    if np.random.uniform() < pi(0,x,theta):\n",
    "        a = 0\n",
    "    else:\n",
    "        a = 1\n",
    "    G = np.random.normal(loc=Rtrue[a]) # return of the bandit\n",
    "    N += 1.0\n",
    "    Gmean = Gmean + (1.0/N) * (G - Gmean) # incremental update of the mean\n",
    "    nabla_pi = x[:,a] - np.matmul(np.array( [pi(0,x,theta), pi(1,x,theta)] ), x)\n",
    "    theta = theta + alpha * (G - Gmean) * nabla_pi\n",
    "    life_of_pi_baseline[episode] = pi(0,x,theta)\n",
    "    life_of_theta_baseline[episode,:] = theta\n",
    "\n",
    "%matplotlib inline\n",
    "import matplotlib.pyplot as plt\n",
    "plt.plot(life_of_pi)\n",
    "plt.plot(life_of_pi_baseline)\n",
    "plt.show()"
   ]
  },
  {
   "cell_type": "code",
   "execution_count": 11,
   "metadata": {
    "collapsed": false
   },
   "outputs": [
    {
     "data": {
      "image/png": "[encoded data removed]",
      "text/plain": [
       "<Figure size 432x288 with 1 Axes>"
      ]
     },
     "metadata": {},
     "output_type": "display_data"
    }
   ],
   "source": [
    "plt.plot(life_of_theta_baseline)\n",
    "plt.show()"
   ]
  },
  {
   "cell_type": "markdown",
   "metadata": {
    "collapsed": true
   },
   "source": [
    "### Actor-Critic\n",
    "We look now at the Actor Critic using a value function, for the $n$-armed bandit problem it will be equivalent to REINFORCE with baseline. To see the difference between the two methods we need to use bootstrapping (i.e. TD learning or estimating state value from estimated values of subsequent states). We need to look at a problem with more state than one, for this reason we will look at the *short corridor* problem. The value function for each state is put in a table (this is our critic), the policy (actor) is as above, as if we had only one state. We can re-use the policy def above, since we have only two actions here: go left and go right. "
   ]
  },
  {
   "cell_type": "code",
   "execution_count": 12,
   "metadata": {
    "collapsed": false
   },
   "outputs": [],
   "source": [
    "def small_corridor_step(s,a):\n",
    "    step = [-1,1]  # the steps taken are to the left or right only\n",
    "    if s == 1:\n",
    "        snew = s + step[1-a]  # in this state (s = 1) the directions are reversed\n",
    "    else:\n",
    "        snew = np.maximum(0, s + step[a]) # the states are (wall)0-1-2-3(terminal)\n",
    "    if snew == 3:\n",
    "        r = 0      # terminal state is s = 3\n",
    "    else:\n",
    "        r = -1     # we have not reached a terminal state\n",
    "    return r, snew # return the immediate reward and new state (snew)"
   ]
  },
  {
   "cell_type": "code",
   "execution_count": 13,
   "metadata": {
    "collapsed": false
   },
   "outputs": [
    {
     "name": "stdout",
     "output_type": "stream",
     "text": [
      "$\\pi(1) =$  0.5840535749548353\n",
      "$V = $ [-10.78564244  -9.14087908  -4.21121719   0.        ]\n"
     ]
    },
    {
     "data": {
      "image/png": "[encoded data removed]",
      "text/plain": [
       "<Figure size 432x288 with 1 Axes>"
      ]
     },
     "metadata": {},
     "output_type": "display_data"
    }
   ],
   "source": [
    "V = np.zeros(4)    # value of the four states, note that V[3] = 0 by definition\n",
    "theta = np.ones(2) # parameters for the policy function equal values to start with\n",
    "x = np.eye(2)      # the two feature vectors for action a=0 (left) and a=1 (right)\n",
    "# below is the softmax function for our policy \\pi                \n",
    "pi = lambda a,x,theta:np.exp(np.matmul(theta,x[:,a].T))/np.sum(np.exp(np.matmul(theta,x.T)))\n",
    "life_of_pi_ac = np.zeros( 5000 )\n",
    "life_of_value_ac = np.zeros( (len(life_of_pi_ac)) )\n",
    "for episode in range( len(life_of_pi_ac) ):\n",
    "    s = 0 # initial state, the starting state is to the left hand size wall s = 0\n",
    "    alpha = 2/(20+episode) # a slowly decreasing step size for V and theta\n",
    "    while s < 3: # while the state is less than 3 we have not arrived at a terminal state\n",
    "        if np.random.uniform() < pi(0,x,theta): # the probability of selecting a = 0\n",
    "            a = 0\n",
    "        else: # the rest of the probability is for selecting a = 1\n",
    "            a = 1\n",
    "        r, snew = small_corridor_step(s,a)   # simulate one step of the small corridor model\n",
    "        if (snew == 3):\n",
    "            delta = r + gamma*0 - V[s]       # this is the terminal state\n",
    "        else: \n",
    "            delta = r + gamma*V[snew] - V[s] # we have not reached a terminal state\n",
    "        V[s] = V[s] + alpha*delta          # the usual TD update for value table\n",
    "        grad_ln_pi = x[:,a] - np.matmul(np.array( [pi(0,x,theta), pi(1,x,theta)] ), x)\n",
    "        theta = theta + alpha*delta*grad_ln_pi # the policy gradient update\n",
    "        s = snew                             # move to the new state\n",
    "    life_of_pi_ac[episode] = pi(1,x,theta)   # probability of right action\n",
    "    life_of_value_ac[episode] = V[0]         # the value of the start state V(S) \n",
    "\n",
    "%matplotlib inline\n",
    "import matplotlib.pyplot as plt\n",
    "plt.plot(life_of_pi_ac)\n",
    "print(\"$\\pi(1) =$ \", pi(1,x,theta))\n",
    "print(\"$V = $\", V)"
   ]
  },
  {
   "cell_type": "markdown",
   "metadata": {
    "collapsed": false
   },
   "source": [
    "The value of state $S$ in example, 13.1. See also figures 13.1 and 13.2 in the book, these figures show the REINFORCE and REINFORCE with baseline algorithms performance. The code supplied by the book are a little non-transparent, and a little bit more complicated than what I have supplied above (they seem to add $\\epsilon=0.05$ greedy style exploration, since the agent tends to get stuck by the wall, this was not needed for the Actor-Critic). Learning a noisy policy means that we should not need to explicitly force exploration, or what? Notice also the fluctuation as we reach the optimal, clearly in this region the step size $\\alpha$ is too large."
   ]
  },
  {
   "cell_type": "code",
   "execution_count": 14,
   "metadata": {
    "collapsed": false
   },
   "outputs": [
    {
     "data": {
      "image/png": "[encoded data removed]",
      "text/plain": [
       "<Figure size 432x288 with 1 Axes>"
      ]
     },
     "metadata": {},
     "output_type": "display_data"
    }
   ],
   "source": [
    "plt.plot(life_of_value_ac)\n",
    "plt.show()"
   ]
  },
  {
   "cell_type": "markdown",
   "metadata": {
    "collapsed": true
   },
   "source": [
    "### The symbolic expression for this problem\n",
    "From the Bellman equation (first weeks or study) we have the following for the short corridor problem (see also exercise 13.1):\n",
    "$$V_s = \\pi(V_b-1)+(1-\\pi)(V_s-1)$$\n",
    "$$V_b = \\pi(V_s-1)+(1-\\pi)(V_c-1)$$\n",
    "$$V_c = \\pi(-1) + (1-\\pi)(V_b-1)$$"
   ]
  },
  {
   "cell_type": "code",
   "execution_count": 15,
   "metadata": {
    "collapsed": false,
    "scrolled": true
   },
   "outputs": [
    {
     "data": {
      "image/png": "[encoded data removed]",
      "text/latex": [
       "$$\\frac{- 2 \\pi + 4}{\\pi \\left(\\pi - 1\\right)}$$"
      ],
      "text/plain": [
       " -2⋅π + 4\n",
       "─────────\n",
       "π⋅(π - 1)"
      ]
     },
     "execution_count": 15,
     "metadata": {},
     "output_type": "execute_result"
    }
   ],
   "source": [
    "# we can solve this using sympy:\n",
    "Vs, Vb, Vc, pi = sp.symbols('Vs Vb Vc pi')\n",
    "expr = sp.solve([-Vs+pi*(Vb-1)+(1-pi)*(Vs-1),-Vb+pi*(Vs-1)+(1-pi)*(Vc-1),-Vc+pi*(-1)+(1-pi)*(Vb-1)],(Vs,Vb,Vc))\n",
    "expr[Vs]"
   ]
  },
  {
   "cell_type": "code",
   "execution_count": 16,
   "metadata": {
    "collapsed": false
   },
   "outputs": [
    {
     "data": {
      "image/png": "[encoded data removed]",
      "text/latex": [
       "$$\\left [ - \\sqrt{2} + 2, \\quad \\sqrt{2} + 2\\right ]$$"
      ],
      "text/plain": [
       "[-√2 + 2, √2 + 2]"
      ]
     },
     "execution_count": 16,
     "metadata": {},
     "output_type": "execute_result"
    }
   ],
   "source": [
    "optimal_pi = sp.solve((sp.diff(expr[Vs],pi)))\n",
    "optimal_pi"
   ]
  },
  {
   "cell_type": "markdown",
   "metadata": {},
   "source": [
    "The optimal policy if therefore $\\pi^* = 2-\\sqrt{2}$ since the probability cannot be greater than 1."
   ]
  },
  {
   "cell_type": "code",
   "execution_count": 17,
   "metadata": {
    "collapsed": false
   },
   "outputs": [
    {
     "data": {
      "image/png": "[encoded data removed]",
      "text/latex": [
       "$$0.5857864376269049$$"
      ],
      "text/plain": [
       "0.5857864376269049"
      ]
     },
     "execution_count": 17,
     "metadata": {},
     "output_type": "execute_result"
    }
   ],
   "source": [
    "optimal_pi = -np.sqrt(2)+2\n",
    "optimal_pi"
   ]
  },
  {
   "cell_type": "code",
   "execution_count": 18,
   "metadata": {
    "collapsed": false
   },
   "outputs": [
    {
     "data": {
      "image/png": "[encoded data removed]",
      "text/latex": [
       "$$-11.6568542494924$$"
      ],
      "text/plain": [
       "-11.6568542494924"
      ]
     },
     "execution_count": 18,
     "metadata": {},
     "output_type": "execute_result"
    }
   ],
   "source": [
    "optimal_Vs = expr[Vs].subs(pi,optimal_pi)\n",
    "optimal_Vs"
   ]
  },
  {
   "cell_type": "code",
   "execution_count": null,
   "metadata": {
    "collapsed": true
   },
   "outputs": [],
   "source": []
  }
 ],
 "metadata": {
  "kernelspec": {
   "display_name": "Python 3",
   "language": "python",
   "name": "python3"
  },
  "language_info": {
   "codemirror_mode": {
    "name": "ipython",
    "version": 3
   },
   "file_extension": ".py",
   "mimetype": "text/x-python",
   "name": "python",
   "nbconvert_exporter": "python",
   "pygments_lexer": "ipython3",
   "version": "3.5.3"
  }
 },
 "nbformat": 4,
 "nbformat_minor": 2
}
